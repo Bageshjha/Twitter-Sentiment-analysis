{
 "cells": [
  {
   "cell_type": "code",
   "execution_count": 1,
   "id": "d54f68ba",
   "metadata": {},
   "outputs": [],
   "source": [
    "import re\n",
    "import numpy as np\n",
    "import pandas as pd\n",
    "from nltk.corpus import stopwords\n",
    "from nltk.stem.porter import PorterStemmer\n",
    "from sklearn.feature_extraction.text import TfidfVectorizer\n",
    "from sklearn.model_selection import train_test_split\n",
    "from sklearn.linear_model import LogisticRegression\n",
    "import numpy as np\n",
    "import pandas as pd\n",
    "import seaborn as sns\n",
    "import matplotlib.pyplot as plt\n",
    "from sklearn.preprocessing import StandardScaler\n",
    "from sklearn.model_selection import train_test_split\n",
    "from sklearn.linear_model import LogisticRegression\n",
    "from sklearn.tree import DecisionTreeClassifier\n",
    "from sklearn.naive_bayes import GaussianNB\n",
    "from sklearn.metrics import confusion_matrix, ConfusionMatrixDisplay, classification_report, accuracy_score, precision_score, recall_score,f1_score, roc_auc_score\n",
    "import seaborn as sns\n",
    "import matplotlib.pyplot as plt"
   ]
  },
  {
   "cell_type": "code",
   "execution_count": 2,
   "id": "c5076211",
   "metadata": {},
   "outputs": [
    {
     "name": "stderr",
     "output_type": "stream",
     "text": [
      "[nltk_data] Downloading package stopwords to\n",
      "[nltk_data]     C:\\Users\\bages\\AppData\\Roaming\\nltk_data...\n",
      "[nltk_data]   Package stopwords is already up-to-date!\n"
     ]
    },
    {
     "data": {
      "text/plain": [
       "True"
      ]
     },
     "execution_count": 2,
     "metadata": {},
     "output_type": "execute_result"
    }
   ],
   {
   "cell_type": "markdown",
   "id": "089b5f44",
   "metadata": {},
   "source": [
    "## Dataset link -: https://www.kaggle.com/datasets/kazanova/sentiment140/code"
    ]
   },
   "source": [
    "import nltk\n",
    "nltk.download('stopwords')"
   ]
  },
  {
   "cell_type": "markdown",
   "id": "089b5f44",
   "metadata": {},
   "source": [
    "## Data processing"
   ]
  },
  {
   "cell_type": "code",
   "execution_count": 3,
   "id": "2250dbe7",
   "metadata": {},
   "outputs": [],
   "source": [
    "data = pd.read_csv(r\"C:\\Users\\bages\\OneDrive\\Desktop\\Intro to ML\\training.1600000.processed.noemoticon.csv\" , encoding = 'iso-8859-1')"
   ]
  },
  {
   "cell_type": "code",
   "execution_count": 4,
   "id": "aee6d49e",
   "metadata": {},
   "outputs": [],
   "source": [
    "#naming the coloumns\n",
    "coloumns_name = ['target', 'id','date' ,'flag' , 'user' , 'text']\n",
    "data = pd.read_csv(r\"C:\\Users\\bages\\OneDrive\\Desktop\\Intro to ML\\training.1600000.processed.noemoticon.csv\" ,names = coloumns_name, encoding = 'iso-8859-1')"
   ]
  },
  {
   "cell_type": "code",
   "execution_count": 5,
   "id": "627cd90c",
   "metadata": {},
   "outputs": [
    {
     "data": {
      "text/plain": [
       "(1600000, 6)"
      ]
     },
     "execution_count": 5,
     "metadata": {},
     "output_type": "execute_result"
    }
   ],
   "source": [
    "data.shape"
   ]
  },
  {
   "cell_type": "code",
   "execution_count": 6,
   "id": "8d680540",
   "metadata": {},
   "outputs": [
    {
     "name": "stdout",
     "output_type": "stream",
     "text": [
      "<class 'pandas.core.frame.DataFrame'>\n",
      "RangeIndex: 1600000 entries, 0 to 1599999\n",
      "Data columns (total 6 columns):\n",
      " #   Column  Non-Null Count    Dtype \n",
      "---  ------  --------------    ----- \n",
      " 0   target  1600000 non-null  int64 \n",
      " 1   id      1600000 non-null  int64 \n",
      " 2   date    1600000 non-null  object\n",
      " 3   flag    1600000 non-null  object\n",
      " 4   user    1600000 non-null  object\n",
      " 5   text    1600000 non-null  object\n",
      "dtypes: int64(2), object(4)\n",
      "memory usage: 73.2+ MB\n"
     ]
    }
   ],
   "source": [
    "data.info()"
   ]
  },
  {
   "cell_type": "code",
   "execution_count": 7,
   "id": "7602e309",
   "metadata": {},
   "outputs": [
    {
     "data": {
      "text/html": [
       "<div>\n",
       "<style scoped>\n",
       "    .dataframe tbody tr th:only-of-type {\n",
       "        vertical-align: middle;\n",
       "    }\n",
       "\n",
       "    .dataframe tbody tr th {\n",
       "        vertical-align: top;\n",
       "    }\n",
       "\n",
       "    .dataframe thead th {\n",
       "        text-align: right;\n",
       "    }\n",
       "</style>\n",
       "<table border=\"1\" class=\"dataframe\">\n",
       "  <thead>\n",
       "    <tr style=\"text-align: right;\">\n",
       "      <th></th>\n",
       "      <th>target</th>\n",
       "      <th>id</th>\n",
       "      <th>date</th>\n",
       "      <th>flag</th>\n",
       "      <th>user</th>\n",
       "      <th>text</th>\n",
       "    </tr>\n",
       "  </thead>\n",
       "  <tbody>\n",
       "    <tr>\n",
       "      <th>0</th>\n",
       "      <td>0</td>\n",
       "      <td>1467810369</td>\n",
       "      <td>Mon Apr 06 22:19:45 PDT 2009</td>\n",
       "      <td>NO_QUERY</td>\n",
       "      <td>_TheSpecialOne_</td>\n",
       "      <td>@switchfoot http://twitpic.com/2y1zl - Awww, t...</td>\n",
       "    </tr>\n",
       "    <tr>\n",
       "      <th>1</th>\n",
       "      <td>0</td>\n",
       "      <td>1467810672</td>\n",
       "      <td>Mon Apr 06 22:19:49 PDT 2009</td>\n",
       "      <td>NO_QUERY</td>\n",
       "      <td>scotthamilton</td>\n",
       "      <td>is upset that he can't update his Facebook by ...</td>\n",
       "    </tr>\n",
       "    <tr>\n",
       "      <th>2</th>\n",
       "      <td>0</td>\n",
       "      <td>1467810917</td>\n",
       "      <td>Mon Apr 06 22:19:53 PDT 2009</td>\n",
       "      <td>NO_QUERY</td>\n",
       "      <td>mattycus</td>\n",
       "      <td>@Kenichan I dived many times for the ball. Man...</td>\n",
       "    </tr>\n",
       "    <tr>\n",
       "      <th>3</th>\n",
       "      <td>0</td>\n",
       "      <td>1467811184</td>\n",
       "      <td>Mon Apr 06 22:19:57 PDT 2009</td>\n",
       "      <td>NO_QUERY</td>\n",
       "      <td>ElleCTF</td>\n",
       "      <td>my whole body feels itchy and like its on fire</td>\n",
       "    </tr>\n",
       "    <tr>\n",
       "      <th>4</th>\n",
       "      <td>0</td>\n",
       "      <td>1467811193</td>\n",
       "      <td>Mon Apr 06 22:19:57 PDT 2009</td>\n",
       "      <td>NO_QUERY</td>\n",
       "      <td>Karoli</td>\n",
       "      <td>@nationwideclass no, it's not behaving at all....</td>\n",
       "    </tr>\n",
       "  </tbody>\n",
       "</table>\n",
       "</div>"
      ],
      "text/plain": [
       "   target          id                          date      flag  \\\n",
       "0       0  1467810369  Mon Apr 06 22:19:45 PDT 2009  NO_QUERY   \n",
       "1       0  1467810672  Mon Apr 06 22:19:49 PDT 2009  NO_QUERY   \n",
       "2       0  1467810917  Mon Apr 06 22:19:53 PDT 2009  NO_QUERY   \n",
       "3       0  1467811184  Mon Apr 06 22:19:57 PDT 2009  NO_QUERY   \n",
       "4       0  1467811193  Mon Apr 06 22:19:57 PDT 2009  NO_QUERY   \n",
       "\n",
       "              user                                               text  \n",
       "0  _TheSpecialOne_  @switchfoot http://twitpic.com/2y1zl - Awww, t...  \n",
       "1    scotthamilton  is upset that he can't update his Facebook by ...  \n",
       "2         mattycus  @Kenichan I dived many times for the ball. Man...  \n",
       "3          ElleCTF    my whole body feels itchy and like its on fire   \n",
       "4           Karoli  @nationwideclass no, it's not behaving at all....  "
      ]
     },
     "execution_count": 7,
     "metadata": {},
     "output_type": "execute_result"
    }
   ],
   "source": [
    "data.head()"
   ]
  },
  {
   "cell_type": "markdown",
   "id": "9154eb38",
   "metadata": {},
   "source": [
    "## Data cleaning"
   ]
  },
  {
   "cell_type": "code",
   "execution_count": 8,
   "id": "4e35adae",
   "metadata": {},
   "outputs": [
    {
     "data": {
      "text/plain": [
       "target    0\n",
       "id        0\n",
       "date      0\n",
       "flag      0\n",
       "user      0\n",
       "text      0\n",
       "dtype: int64"
      ]
     },
     "execution_count": 8,
     "metadata": {},
     "output_type": "execute_result"
    }
   ],
   "source": [
    "#missing values\n",
    "data.isnull().sum()"
   ]
  },
  {
   "cell_type": "code",
   "execution_count": 9,
   "id": "5fd7c753",
   "metadata": {},
   "outputs": [
    {
     "name": "stdout",
     "output_type": "stream",
     "text": [
      "No, There aren't duplicate rows in the dataset.\n"
     ]
    }
   ],
   "source": [
    "if data.duplicated().sum() == 0:\n",
    "    print('No, There aren\\'t duplicate rows in the dataset.')\n",
    "else:\n",
    "    print(f'Yes, There are {data.duplicated().sum()} duplicate rows in the dataset.\\n')\n",
    "    data.drop_duplicates(inplace=True)\n",
    "    print(data.shape) # (rows, columns)"
   ]
  },
  {
   "cell_type": "code",
   "execution_count": 10,
   "id": "a2fef77b",
   "metadata": {},
   "outputs": [
    {
     "data": {
      "text/plain": [
       "0    800000\n",
       "4    800000\n",
       "Name: target, dtype: int64"
      ]
     },
     "execution_count": 10,
     "metadata": {},
     "output_type": "execute_result"
    }
   ],
   "source": [
    "#Checking the distribution of 'target' column\n",
    "data['target'].value_counts()"
   ]
  },
  {
   "cell_type": "code",
   "execution_count": 11,
   "id": "16e0b07d",
   "metadata": {},
   "outputs": [],
   "source": [
    "#replacing the 4 with 1\n",
    "data.replace({'target':{4:1}}, inplace = True)"
   ]
  },
  {
   "cell_type": "code",
   "execution_count": 12,
   "id": "0c41160c",
   "metadata": {},
   "outputs": [
    {
     "data": {
      "text/plain": [
       "0    800000\n",
       "1    800000\n",
       "Name: target, dtype: int64"
      ]
     },
     "execution_count": 12,
     "metadata": {},
     "output_type": "execute_result"
    }
   ],
   "source": [
    "#0 for negative , 1 for positive\n",
    "data['target'].value_counts()\n"
   ]
  },
  {
   "cell_type": "code",
   "execution_count": 13,
   "id": "46ef6325",
   "metadata": {},
   "outputs": [],
   "source": [
    "port_stem = PorterStemmer()"
   ]
  },
  {
   "cell_type": "code",
   "execution_count": 14,
   "id": "41be5717",
   "metadata": {},
   "outputs": [],
   "source": [
    "def stemming(content):\n",
    "    \n",
    "    stemmed_content = re.sub('[^a-zA-z]', ' ', content)\n",
    "    stemmed_content = stemmed_content.lower()\n",
    "    stemmed_content = stemmed_content.split()\n",
    "    stemmed_content = [port_stem.stem(word) for word in stemmed_content if not word in stopwords.words('english')]\n",
    "    stemmed_content = ' '.join(stemmed_content)\n",
    "    \n",
    "    return stemmed_content"
   ]
  },
  {
   "cell_type": "code",
   "execution_count": 15,
   "id": "cf7da10e",
   "metadata": {},
   "outputs": [],
   "source": [
    "data['steemed_content'] = data['text'].apply(stemming)"
   ]
  },
  {
   "cell_type": "code",
   "execution_count": 50,
   "id": "8bf6bc08",
   "metadata": {},
   "outputs": [
    {
     "data": {
      "text/html": [
       "<div>\n",
       "<style scoped>\n",
       "    .dataframe tbody tr th:only-of-type {\n",
       "        vertical-align: middle;\n",
       "    }\n",
       "\n",
       "    .dataframe tbody tr th {\n",
       "        vertical-align: top;\n",
       "    }\n",
       "\n",
       "    .dataframe thead th {\n",
       "        text-align: right;\n",
       "    }\n",
       "</style>\n",
       "<table border=\"1\" class=\"dataframe\">\n",
       "  <thead>\n",
       "    <tr style=\"text-align: right;\">\n",
       "      <th></th>\n",
       "      <th>target</th>\n",
       "      <th>id</th>\n",
       "      <th>date</th>\n",
       "      <th>flag</th>\n",
       "      <th>user</th>\n",
       "      <th>text</th>\n",
       "      <th>steemed_content</th>\n",
       "    </tr>\n",
       "  </thead>\n",
       "  <tbody>\n",
       "    <tr>\n",
       "      <th>0</th>\n",
       "      <td>0</td>\n",
       "      <td>1467810369</td>\n",
       "      <td>Mon Apr 06 22:19:45 PDT 2009</td>\n",
       "      <td>NO_QUERY</td>\n",
       "      <td>_TheSpecialOne_</td>\n",
       "      <td>@switchfoot http://twitpic.com/2y1zl - Awww, t...</td>\n",
       "      <td>switchfoot http twitpic com zl awww bummer sho...</td>\n",
       "    </tr>\n",
       "    <tr>\n",
       "      <th>1</th>\n",
       "      <td>0</td>\n",
       "      <td>1467810672</td>\n",
       "      <td>Mon Apr 06 22:19:49 PDT 2009</td>\n",
       "      <td>NO_QUERY</td>\n",
       "      <td>scotthamilton</td>\n",
       "      <td>is upset that he can't update his Facebook by ...</td>\n",
       "      <td>upset updat facebook text might cri result sch...</td>\n",
       "    </tr>\n",
       "    <tr>\n",
       "      <th>2</th>\n",
       "      <td>0</td>\n",
       "      <td>1467810917</td>\n",
       "      <td>Mon Apr 06 22:19:53 PDT 2009</td>\n",
       "      <td>NO_QUERY</td>\n",
       "      <td>mattycus</td>\n",
       "      <td>@Kenichan I dived many times for the ball. Man...</td>\n",
       "      <td>kenichan dive mani time ball manag save rest g...</td>\n",
       "    </tr>\n",
       "    <tr>\n",
       "      <th>3</th>\n",
       "      <td>0</td>\n",
       "      <td>1467811184</td>\n",
       "      <td>Mon Apr 06 22:19:57 PDT 2009</td>\n",
       "      <td>NO_QUERY</td>\n",
       "      <td>ElleCTF</td>\n",
       "      <td>my whole body feels itchy and like its on fire</td>\n",
       "      <td>whole bodi feel itchi like fire</td>\n",
       "    </tr>\n",
       "    <tr>\n",
       "      <th>4</th>\n",
       "      <td>0</td>\n",
       "      <td>1467811193</td>\n",
       "      <td>Mon Apr 06 22:19:57 PDT 2009</td>\n",
       "      <td>NO_QUERY</td>\n",
       "      <td>Karoli</td>\n",
       "      <td>@nationwideclass no, it's not behaving at all....</td>\n",
       "      <td>nationwideclass behav mad see</td>\n",
       "    </tr>\n",
       "  </tbody>\n",
       "</table>\n",
       "</div>"
      ],
      "text/plain": [
       "   target          id                          date      flag  \\\n",
       "0       0  1467810369  Mon Apr 06 22:19:45 PDT 2009  NO_QUERY   \n",
       "1       0  1467810672  Mon Apr 06 22:19:49 PDT 2009  NO_QUERY   \n",
       "2       0  1467810917  Mon Apr 06 22:19:53 PDT 2009  NO_QUERY   \n",
       "3       0  1467811184  Mon Apr 06 22:19:57 PDT 2009  NO_QUERY   \n",
       "4       0  1467811193  Mon Apr 06 22:19:57 PDT 2009  NO_QUERY   \n",
       "\n",
       "              user                                               text  \\\n",
       "0  _TheSpecialOne_  @switchfoot http://twitpic.com/2y1zl - Awww, t...   \n",
       "1    scotthamilton  is upset that he can't update his Facebook by ...   \n",
       "2         mattycus  @Kenichan I dived many times for the ball. Man...   \n",
       "3          ElleCTF    my whole body feels itchy and like its on fire    \n",
       "4           Karoli  @nationwideclass no, it's not behaving at all....   \n",
       "\n",
       "                                     steemed_content  \n",
       "0  switchfoot http twitpic com zl awww bummer sho...  \n",
       "1  upset updat facebook text might cri result sch...  \n",
       "2  kenichan dive mani time ball manag save rest g...  \n",
       "3                    whole bodi feel itchi like fire  \n",
       "4                      nationwideclass behav mad see  "
      ]
     },
     "execution_count": 50,
     "metadata": {},
     "output_type": "execute_result"
    }
   ],
   "source": [
    "data.head()"
   ]
  },
  {
   "cell_type": "code",
   "execution_count": 51,
   "id": "b6ecd544",
   "metadata": {},
   "outputs": [
    {
     "name": "stdout",
     "output_type": "stream",
     "text": [
      "0          switchfoot http twitpic com zl awww bummer sho...\n",
      "1          upset updat facebook text might cri result sch...\n",
      "2          kenichan dive mani time ball manag save rest g...\n",
      "3                            whole bodi feel itchi like fire\n",
      "4                              nationwideclass behav mad see\n",
      "                                 ...                        \n",
      "1599995                           woke school best feel ever\n",
      "1599996    thewdb com cool hear old walt interview http b...\n",
      "1599997                         readi mojo makeov ask detail\n",
      "1599998    happi th birthday boo alll time tupac amaru sh...\n",
      "1599999    happi charitytuesday thenspcc sparkschar speak...\n",
      "Name: steemed_content, Length: 1600000, dtype: object\n"
     ]
    }
   ],
   "source": [
    "print(data['steemed_content'])"
   ]
  },
  {
   "cell_type": "code",
   "execution_count": 52,
   "id": "94607cf6",
   "metadata": {},
   "outputs": [
    {
     "name": "stdout",
     "output_type": "stream",
     "text": [
      "0          0\n",
      "1          0\n",
      "2          0\n",
      "3          0\n",
      "4          0\n",
      "          ..\n",
      "1599995    1\n",
      "1599996    1\n",
      "1599997    1\n",
      "1599998    1\n",
      "1599999    1\n",
      "Name: target, Length: 1600000, dtype: int64\n"
     ]
    }
   ],
   "source": [
    "print(data['target'])"
   ]
  },
  {
   "cell_type": "code",
   "execution_count": 53,
   "id": "16fe226f",
   "metadata": {},
   "outputs": [
    {
     "name": "stdout",
     "output_type": "stream",
     "text": [
      "['switchfoot http twitpic com zl awww bummer shoulda got david carr third day'\n",
      " 'upset updat facebook text might cri result school today also blah'\n",
      " 'kenichan dive mani time ball manag save rest go bound' ...\n",
      " 'readi mojo makeov ask detail'\n",
      " 'happi th birthday boo alll time tupac amaru shakur'\n",
      " 'happi charitytuesday thenspcc sparkschar speakinguph h']\n",
      "[0 0 0 ... 1 1 1]\n"
     ]
    }
   ],
   "source": [
    "#seprating data and label\n",
    "x = data['steemed_content'].values\n",
    "y = data['target'].values\n",
    "print(x)\n",
    "print(y)"
   ]
  },
  {
   "cell_type": "code",
   "execution_count": 54,
   "id": "dbac3777",
   "metadata": {},
   "outputs": [],
   "source": [
    "\n",
    "x_train, x_test, y_train, y_test = train_test_split(x, y, test_size=0.2, stratify=y, random_state=2)\n"
   ]
  },
  {
   "cell_type": "code",
   "execution_count": 55,
   "id": "ca17ee7f",
   "metadata": {},
   "outputs": [
    {
     "name": "stdout",
     "output_type": "stream",
     "text": [
      "(1600000,) (1280000,) (320000,)\n"
     ]
    }
   ],
   "source": [
    "print(x.shape , x_train.shape, x_test.shape)"
   ]
  },
  {
   "cell_type": "code",
   "execution_count": 56,
   "id": "0f161b03",
   "metadata": {},
   "outputs": [
    {
     "name": "stdout",
     "output_type": "stream",
     "text": [
      "['watch saw iv drink lil wine' 'hatermagazin'\n",
      " 'even though favourit drink think vodka coke wipe mind time think im gonna find new drink'\n",
      " ... 'eager monday afternoon'\n",
      " 'hope everyon mother great day wait hear guy store tomorrow'\n",
      " 'love wake folger bad voic deeper']\n"
     ]
    }
   ],
   "source": [
    "print(x_train)"
   ]
  },
  {
   "cell_type": "code",
   "execution_count": 57,
   "id": "1e646d31",
   "metadata": {},
   "outputs": [
    {
     "name": "stdout",
     "output_type": "stream",
     "text": [
      "['mmangen fine much time chat twitter hubbi back summer amp tend domin free time'\n",
      " 'ah may show w ruth kim amp geoffrey sanhueza'\n",
      " 'ishatara mayb bay area thang dammit' ...\n",
      " 'destini nevertheless hooray member wonder safe trip' 'feel well'\n",
      " 'supersandro thank']\n"
     ]
    }
   ],
   "source": [
    "print(x_test)"
   ]
  },
  {
   "cell_type": "code",
   "execution_count": 58,
   "id": "a20d00c5",
   "metadata": {},
   "outputs": [],
   "source": [
    "#converting textual data to numerical data\n",
    "\n",
    "vectorizer = TfidfVectorizer()\n",
    "x_train = vectorizer.fit_transform(x_train)\n",
    "x_test = vectorizer.transform(x_test)"
   ]
  },
  {
   "cell_type": "code",
   "execution_count": 48,
   "id": "5a42ec80",
   "metadata": {},
   "outputs": [
    {
     "data": {
      "text/html": [
       "<style>#sk-container-id-3 {\n",
       "  /* Definition of color scheme common for light and dark mode */\n",
       "  --sklearn-color-text: black;\n",
       "  --sklearn-color-line: gray;\n",
       "  /* Definition of color scheme for unfitted estimators */\n",
       "  --sklearn-color-unfitted-level-0: #fff5e6;\n",
       "  --sklearn-color-unfitted-level-1: #f6e4d2;\n",
       "  --sklearn-color-unfitted-level-2: #ffe0b3;\n",
       "  --sklearn-color-unfitted-level-3: chocolate;\n",
       "  /* Definition of color scheme for fitted estimators */\n",
       "  --sklearn-color-fitted-level-0: #f0f8ff;\n",
       "  --sklearn-color-fitted-level-1: #d4ebff;\n",
       "  --sklearn-color-fitted-level-2: #b3dbfd;\n",
       "  --sklearn-color-fitted-level-3: cornflowerblue;\n",
       "\n",
       "  /* Specific color for light theme */\n",
       "  --sklearn-color-text-on-default-background: var(--sg-text-color, var(--theme-code-foreground, var(--jp-content-font-color1, black)));\n",
       "  --sklearn-color-background: var(--sg-background-color, var(--theme-background, var(--jp-layout-color0, white)));\n",
       "  --sklearn-color-border-box: var(--sg-text-color, var(--theme-code-foreground, var(--jp-content-font-color1, black)));\n",
       "  --sklearn-color-icon: #696969;\n",
       "\n",
       "  @media (prefers-color-scheme: dark) {\n",
       "    /* Redefinition of color scheme for dark theme */\n",
       "    --sklearn-color-text-on-default-background: var(--sg-text-color, var(--theme-code-foreground, var(--jp-content-font-color1, white)));\n",
       "    --sklearn-color-background: var(--sg-background-color, var(--theme-background, var(--jp-layout-color0, #111)));\n",
       "    --sklearn-color-border-box: var(--sg-text-color, var(--theme-code-foreground, var(--jp-content-font-color1, white)));\n",
       "    --sklearn-color-icon: #878787;\n",
       "  }\n",
       "}\n",
       "\n",
       "#sk-container-id-3 {\n",
       "  color: var(--sklearn-color-text);\n",
       "}\n",
       "\n",
       "#sk-container-id-3 pre {\n",
       "  padding: 0;\n",
       "}\n",
       "\n",
       "#sk-container-id-3 input.sk-hidden--visually {\n",
       "  border: 0;\n",
       "  clip: rect(1px 1px 1px 1px);\n",
       "  clip: rect(1px, 1px, 1px, 1px);\n",
       "  height: 1px;\n",
       "  margin: -1px;\n",
       "  overflow: hidden;\n",
       "  padding: 0;\n",
       "  position: absolute;\n",
       "  width: 1px;\n",
       "}\n",
       "\n",
       "#sk-container-id-3 div.sk-dashed-wrapped {\n",
       "  border: 1px dashed var(--sklearn-color-line);\n",
       "  margin: 0 0.4em 0.5em 0.4em;\n",
       "  box-sizing: border-box;\n",
       "  padding-bottom: 0.4em;\n",
       "  background-color: var(--sklearn-color-background);\n",
       "}\n",
       "\n",
       "#sk-container-id-3 div.sk-container {\n",
       "  /* jupyter's `normalize.less` sets `[hidden] { display: none; }`\n",
       "     but bootstrap.min.css set `[hidden] { display: none !important; }`\n",
       "     so we also need the `!important` here to be able to override the\n",
       "     default hidden behavior on the sphinx rendered scikit-learn.org.\n",
       "     See: https://github.com/scikit-learn/scikit-learn/issues/21755 */\n",
       "  display: inline-block !important;\n",
       "  position: relative;\n",
       "}\n",
       "\n",
       "#sk-container-id-3 div.sk-text-repr-fallback {\n",
       "  display: none;\n",
       "}\n",
       "\n",
       "div.sk-parallel-item,\n",
       "div.sk-serial,\n",
       "div.sk-item {\n",
       "  /* draw centered vertical line to link estimators */\n",
       "  background-image: linear-gradient(var(--sklearn-color-text-on-default-background), var(--sklearn-color-text-on-default-background));\n",
       "  background-size: 2px 100%;\n",
       "  background-repeat: no-repeat;\n",
       "  background-position: center center;\n",
       "}\n",
       "\n",
       "/* Parallel-specific style estimator block */\n",
       "\n",
       "#sk-container-id-3 div.sk-parallel-item::after {\n",
       "  content: \"\";\n",
       "  width: 100%;\n",
       "  border-bottom: 2px solid var(--sklearn-color-text-on-default-background);\n",
       "  flex-grow: 1;\n",
       "}\n",
       "\n",
       "#sk-container-id-3 div.sk-parallel {\n",
       "  display: flex;\n",
       "  align-items: stretch;\n",
       "  justify-content: center;\n",
       "  background-color: var(--sklearn-color-background);\n",
       "  position: relative;\n",
       "}\n",
       "\n",
       "#sk-container-id-3 div.sk-parallel-item {\n",
       "  display: flex;\n",
       "  flex-direction: column;\n",
       "}\n",
       "\n",
       "#sk-container-id-3 div.sk-parallel-item:first-child::after {\n",
       "  align-self: flex-end;\n",
       "  width: 50%;\n",
       "}\n",
       "\n",
       "#sk-container-id-3 div.sk-parallel-item:last-child::after {\n",
       "  align-self: flex-start;\n",
       "  width: 50%;\n",
       "}\n",
       "\n",
       "#sk-container-id-3 div.sk-parallel-item:only-child::after {\n",
       "  width: 0;\n",
       "}\n",
       "\n",
       "/* Serial-specific style estimator block */\n",
       "\n",
       "#sk-container-id-3 div.sk-serial {\n",
       "  display: flex;\n",
       "  flex-direction: column;\n",
       "  align-items: center;\n",
       "  background-color: var(--sklearn-color-background);\n",
       "  padding-right: 1em;\n",
       "  padding-left: 1em;\n",
       "}\n",
       "\n",
       "\n",
       "/* Toggleable style: style used for estimator/Pipeline/ColumnTransformer box that is\n",
       "clickable and can be expanded/collapsed.\n",
       "- Pipeline and ColumnTransformer use this feature and define the default style\n",
       "- Estimators will overwrite some part of the style using the `sk-estimator` class\n",
       "*/\n",
       "\n",
       "/* Pipeline and ColumnTransformer style (default) */\n",
       "\n",
       "#sk-container-id-3 div.sk-toggleable {\n",
       "  /* Default theme specific background. It is overwritten whether we have a\n",
       "  specific estimator or a Pipeline/ColumnTransformer */\n",
       "  background-color: var(--sklearn-color-background);\n",
       "}\n",
       "\n",
       "/* Toggleable label */\n",
       "#sk-container-id-3 label.sk-toggleable__label {\n",
       "  cursor: pointer;\n",
       "  display: block;\n",
       "  width: 100%;\n",
       "  margin-bottom: 0;\n",
       "  padding: 0.5em;\n",
       "  box-sizing: border-box;\n",
       "  text-align: center;\n",
       "}\n",
       "\n",
       "#sk-container-id-3 label.sk-toggleable__label-arrow:before {\n",
       "  /* Arrow on the left of the label */\n",
       "  content: \"▸\";\n",
       "  float: left;\n",
       "  margin-right: 0.25em;\n",
       "  color: var(--sklearn-color-icon);\n",
       "}\n",
       "\n",
       "#sk-container-id-3 label.sk-toggleable__label-arrow:hover:before {\n",
       "  color: var(--sklearn-color-text);\n",
       "}\n",
       "\n",
       "/* Toggleable content - dropdown */\n",
       "\n",
       "#sk-container-id-3 div.sk-toggleable__content {\n",
       "  max-height: 0;\n",
       "  max-width: 0;\n",
       "  overflow: hidden;\n",
       "  text-align: left;\n",
       "  /* unfitted */\n",
       "  background-color: var(--sklearn-color-unfitted-level-0);\n",
       "}\n",
       "\n",
       "#sk-container-id-3 div.sk-toggleable__content.fitted {\n",
       "  /* fitted */\n",
       "  background-color: var(--sklearn-color-fitted-level-0);\n",
       "}\n",
       "\n",
       "#sk-container-id-3 div.sk-toggleable__content pre {\n",
       "  margin: 0.2em;\n",
       "  border-radius: 0.25em;\n",
       "  color: var(--sklearn-color-text);\n",
       "  /* unfitted */\n",
       "  background-color: var(--sklearn-color-unfitted-level-0);\n",
       "}\n",
       "\n",
       "#sk-container-id-3 div.sk-toggleable__content.fitted pre {\n",
       "  /* unfitted */\n",
       "  background-color: var(--sklearn-color-fitted-level-0);\n",
       "}\n",
       "\n",
       "#sk-container-id-3 input.sk-toggleable__control:checked~div.sk-toggleable__content {\n",
       "  /* Expand drop-down */\n",
       "  max-height: 200px;\n",
       "  max-width: 100%;\n",
       "  overflow: auto;\n",
       "}\n",
       "\n",
       "#sk-container-id-3 input.sk-toggleable__control:checked~label.sk-toggleable__label-arrow:before {\n",
       "  content: \"▾\";\n",
       "}\n",
       "\n",
       "/* Pipeline/ColumnTransformer-specific style */\n",
       "\n",
       "#sk-container-id-3 div.sk-label input.sk-toggleable__control:checked~label.sk-toggleable__label {\n",
       "  color: var(--sklearn-color-text);\n",
       "  background-color: var(--sklearn-color-unfitted-level-2);\n",
       "}\n",
       "\n",
       "#sk-container-id-3 div.sk-label.fitted input.sk-toggleable__control:checked~label.sk-toggleable__label {\n",
       "  background-color: var(--sklearn-color-fitted-level-2);\n",
       "}\n",
       "\n",
       "/* Estimator-specific style */\n",
       "\n",
       "/* Colorize estimator box */\n",
       "#sk-container-id-3 div.sk-estimator input.sk-toggleable__control:checked~label.sk-toggleable__label {\n",
       "  /* unfitted */\n",
       "  background-color: var(--sklearn-color-unfitted-level-2);\n",
       "}\n",
       "\n",
       "#sk-container-id-3 div.sk-estimator.fitted input.sk-toggleable__control:checked~label.sk-toggleable__label {\n",
       "  /* fitted */\n",
       "  background-color: var(--sklearn-color-fitted-level-2);\n",
       "}\n",
       "\n",
       "#sk-container-id-3 div.sk-label label.sk-toggleable__label,\n",
       "#sk-container-id-3 div.sk-label label {\n",
       "  /* The background is the default theme color */\n",
       "  color: var(--sklearn-color-text-on-default-background);\n",
       "}\n",
       "\n",
       "/* On hover, darken the color of the background */\n",
       "#sk-container-id-3 div.sk-label:hover label.sk-toggleable__label {\n",
       "  color: var(--sklearn-color-text);\n",
       "  background-color: var(--sklearn-color-unfitted-level-2);\n",
       "}\n",
       "\n",
       "/* Label box, darken color on hover, fitted */\n",
       "#sk-container-id-3 div.sk-label.fitted:hover label.sk-toggleable__label.fitted {\n",
       "  color: var(--sklearn-color-text);\n",
       "  background-color: var(--sklearn-color-fitted-level-2);\n",
       "}\n",
       "\n",
       "/* Estimator label */\n",
       "\n",
       "#sk-container-id-3 div.sk-label label {\n",
       "  font-family: monospace;\n",
       "  font-weight: bold;\n",
       "  display: inline-block;\n",
       "  line-height: 1.2em;\n",
       "}\n",
       "\n",
       "#sk-container-id-3 div.sk-label-container {\n",
       "  text-align: center;\n",
       "}\n",
       "\n",
       "/* Estimator-specific */\n",
       "#sk-container-id-3 div.sk-estimator {\n",
       "  font-family: monospace;\n",
       "  border: 1px dotted var(--sklearn-color-border-box);\n",
       "  border-radius: 0.25em;\n",
       "  box-sizing: border-box;\n",
       "  margin-bottom: 0.5em;\n",
       "  /* unfitted */\n",
       "  background-color: var(--sklearn-color-unfitted-level-0);\n",
       "}\n",
       "\n",
       "#sk-container-id-3 div.sk-estimator.fitted {\n",
       "  /* fitted */\n",
       "  background-color: var(--sklearn-color-fitted-level-0);\n",
       "}\n",
       "\n",
       "/* on hover */\n",
       "#sk-container-id-3 div.sk-estimator:hover {\n",
       "  /* unfitted */\n",
       "  background-color: var(--sklearn-color-unfitted-level-2);\n",
       "}\n",
       "\n",
       "#sk-container-id-3 div.sk-estimator.fitted:hover {\n",
       "  /* fitted */\n",
       "  background-color: var(--sklearn-color-fitted-level-2);\n",
       "}\n",
       "\n",
       "/* Specification for estimator info (e.g. \"i\" and \"?\") */\n",
       "\n",
       "/* Common style for \"i\" and \"?\" */\n",
       "\n",
       ".sk-estimator-doc-link,\n",
       "a:link.sk-estimator-doc-link,\n",
       "a:visited.sk-estimator-doc-link {\n",
       "  float: right;\n",
       "  font-size: smaller;\n",
       "  line-height: 1em;\n",
       "  font-family: monospace;\n",
       "  background-color: var(--sklearn-color-background);\n",
       "  border-radius: 1em;\n",
       "  height: 1em;\n",
       "  width: 1em;\n",
       "  text-decoration: none !important;\n",
       "  margin-left: 1ex;\n",
       "  /* unfitted */\n",
       "  border: var(--sklearn-color-unfitted-level-1) 1pt solid;\n",
       "  color: var(--sklearn-color-unfitted-level-1);\n",
       "}\n",
       "\n",
       ".sk-estimator-doc-link.fitted,\n",
       "a:link.sk-estimator-doc-link.fitted,\n",
       "a:visited.sk-estimator-doc-link.fitted {\n",
       "  /* fitted */\n",
       "  border: var(--sklearn-color-fitted-level-1) 1pt solid;\n",
       "  color: var(--sklearn-color-fitted-level-1);\n",
       "}\n",
       "\n",
       "/* On hover */\n",
       "div.sk-estimator:hover .sk-estimator-doc-link:hover,\n",
       ".sk-estimator-doc-link:hover,\n",
       "div.sk-label-container:hover .sk-estimator-doc-link:hover,\n",
       ".sk-estimator-doc-link:hover {\n",
       "  /* unfitted */\n",
       "  background-color: var(--sklearn-color-unfitted-level-3);\n",
       "  color: var(--sklearn-color-background);\n",
       "  text-decoration: none;\n",
       "}\n",
       "\n",
       "div.sk-estimator.fitted:hover .sk-estimator-doc-link.fitted:hover,\n",
       ".sk-estimator-doc-link.fitted:hover,\n",
       "div.sk-label-container:hover .sk-estimator-doc-link.fitted:hover,\n",
       ".sk-estimator-doc-link.fitted:hover {\n",
       "  /* fitted */\n",
       "  background-color: var(--sklearn-color-fitted-level-3);\n",
       "  color: var(--sklearn-color-background);\n",
       "  text-decoration: none;\n",
       "}\n",
       "\n",
       "/* Span, style for the box shown on hovering the info icon */\n",
       ".sk-estimator-doc-link span {\n",
       "  display: none;\n",
       "  z-index: 9999;\n",
       "  position: relative;\n",
       "  font-weight: normal;\n",
       "  right: .2ex;\n",
       "  padding: .5ex;\n",
       "  margin: .5ex;\n",
       "  width: min-content;\n",
       "  min-width: 20ex;\n",
       "  max-width: 50ex;\n",
       "  color: var(--sklearn-color-text);\n",
       "  box-shadow: 2pt 2pt 4pt #999;\n",
       "  /* unfitted */\n",
       "  background: var(--sklearn-color-unfitted-level-0);\n",
       "  border: .5pt solid var(--sklearn-color-unfitted-level-3);\n",
       "}\n",
       "\n",
       ".sk-estimator-doc-link.fitted span {\n",
       "  /* fitted */\n",
       "  background: var(--sklearn-color-fitted-level-0);\n",
       "  border: var(--sklearn-color-fitted-level-3);\n",
       "}\n",
       "\n",
       ".sk-estimator-doc-link:hover span {\n",
       "  display: block;\n",
       "}\n",
       "\n",
       "/* \"?\"-specific style due to the `<a>` HTML tag */\n",
       "\n",
       "#sk-container-id-3 a.estimator_doc_link {\n",
       "  float: right;\n",
       "  font-size: 1rem;\n",
       "  line-height: 1em;\n",
       "  font-family: monospace;\n",
       "  background-color: var(--sklearn-color-background);\n",
       "  border-radius: 1rem;\n",
       "  height: 1rem;\n",
       "  width: 1rem;\n",
       "  text-decoration: none;\n",
       "  /* unfitted */\n",
       "  color: var(--sklearn-color-unfitted-level-1);\n",
       "  border: var(--sklearn-color-unfitted-level-1) 1pt solid;\n",
       "}\n",
       "\n",
       "#sk-container-id-3 a.estimator_doc_link.fitted {\n",
       "  /* fitted */\n",
       "  border: var(--sklearn-color-fitted-level-1) 1pt solid;\n",
       "  color: var(--sklearn-color-fitted-level-1);\n",
       "}\n",
       "\n",
       "/* On hover */\n",
       "#sk-container-id-3 a.estimator_doc_link:hover {\n",
       "  /* unfitted */\n",
       "  background-color: var(--sklearn-color-unfitted-level-3);\n",
       "  color: var(--sklearn-color-background);\n",
       "  text-decoration: none;\n",
       "}\n",
       "\n",
       "#sk-container-id-3 a.estimator_doc_link.fitted:hover {\n",
       "  /* fitted */\n",
       "  background-color: var(--sklearn-color-fitted-level-3);\n",
       "}\n",
       "</style><div id=\"sk-container-id-3\" class=\"sk-top-container\"><div class=\"sk-text-repr-fallback\"><pre>LogisticRegression()</pre><b>In a Jupyter environment, please rerun this cell to show the HTML representation or trust the notebook. <br />On GitHub, the HTML representation is unable to render, please try loading this page with nbviewer.org.</b></div><div class=\"sk-container\" hidden><div class=\"sk-item\"><div class=\"sk-estimator fitted sk-toggleable\"><input class=\"sk-toggleable__control sk-hidden--visually\" id=\"sk-estimator-id-3\" type=\"checkbox\" checked><label for=\"sk-estimator-id-3\" class=\"sk-toggleable__label fitted sk-toggleable__label-arrow fitted\">&nbsp;&nbsp;LogisticRegression<a class=\"sk-estimator-doc-link fitted\" rel=\"noreferrer\" target=\"_blank\" href=\"https://scikit-learn.org/1.5/modules/generated/sklearn.linear_model.LogisticRegression.html\">?<span>Documentation for LogisticRegression</span></a><span class=\"sk-estimator-doc-link fitted\">i<span>Fitted</span></span></label><div class=\"sk-toggleable__content fitted\"><pre>LogisticRegression()</pre></div> </div></div></div></div>"
      ],
      "text/plain": [
       "LogisticRegression()"
      ]
     },
     "execution_count": 48,
     "metadata": {},
     "output_type": "execute_result"
    }
   ],
   "source": [
    "#training the model\n",
    "model = LogisticRegression()\n",
    "model.fit(x_train,y_train)\n",
    "\n",
    "\n"
   ]
  },
  {
   "cell_type": "code",
   "execution_count": 59,
   "id": "f47f0d7e",
   "metadata": {},
   "outputs": [
    {
     "name": "stdout",
     "output_type": "stream",
     "text": [
      "actual     :  [0 1 0 ... 1 0 1]\n",
      "prediction :  [1 1 1 ... 1 1 0]\n",
      "accuracy   :  0.79812734375\n"
     ]
    }
   ],
   "source": [
    "#accuracy on training data\n",
    "prediction = model.predict(x_train)\n",
    "accuracy = accuracy_score(y_train, prediction)\n",
    "\n",
    "print('actual     : ', y_test)\n",
    "print('prediction : ' , prediction)\n",
    "print('accuracy   : ', accuracy)"
   ]
  },
  {
   "cell_type": "code",
   "execution_count": 63,
   "id": "9ca0db38",
   "metadata": {},
   "outputs": [
    {
     "name": "stdout",
     "output_type": "stream",
     "text": [
      "actual     :  [0 1 0 ... 1 0 1]\n",
      "prediction :  [1 1 0 ... 1 0 1]\n",
      "accuracy   :  0.777265625\n"
     ]
    }
   ],
   "source": [
    "predictions = model.predict(x_test)\n",
    "acc = accuracy_score(y_test, predictions)\n",
    "print('actual     : ', y_test)\n",
    "print('prediction : ' , predictions)\n",
    "print('accuracy   : ', acc)"
   ]
  },
  {
   "cell_type": "code",
   "execution_count": 69,
   "id": "66342c61",
   "metadata": {},
   "outputs": [
    {
     "data": {
      "image/png": "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\n",
      "text/plain": [
       "<Figure size 640x480 with 1 Axes>"
      ]
     },
     "metadata": {},
     "output_type": "display_data"
    }
   ],
   "source": [
    "\n",
    "\n",
    "# Count the actual and predicted values\n",
    "unique_labels = np.unique(y_test)\n",
    "actual_counts = [np.sum(y_test == label) for label in unique_labels]\n",
    "predicted_counts = [np.sum(predictions == label) for label in unique_labels]\n",
    "\n",
    "# Plot the bar chart\n",
    "x = np.arange(len(unique_labels))  # the label locations\n",
    "width = 0.35  # the width of the bars\n",
    "\n",
    "fig, ax = plt.subplots()\n",
    "rects1 = ax.bar(x - width/2, actual_counts, width, label='Actual')\n",
    "rects2 = ax.bar(x + width/2, predicted_counts, width, label='Predicted')\n",
    "\n",
    "# Add some text for labels, title, and custom x-axis tick labels\n",
    "ax.set_xlabel('Class')\n",
    "ax.set_ylabel('Counts')\n",
    "ax.set_title('Actual vs Predicted Counts')\n",
    "ax.set_xticks(x)\n",
    "ax.set_xticklabels(unique_labels)\n",
    "ax.legend()\n",
    "\n",
    "fig.tight_layout()\n",
    "plt.show()\n"
   ]
  },
  {
   "cell_type": "code",
   "execution_count": 64,
   "id": "38a082fd",
   "metadata": {},
   "outputs": [
    {
     "name": "stdout",
     "output_type": "stream",
     "text": [
      "              precision    recall  f1-score   support\n",
      "\n",
      "           0       0.79      0.76      0.77    160000\n",
      "           1       0.77      0.80      0.78    160000\n",
      "\n",
      "    accuracy                           0.78    320000\n",
      "   macro avg       0.78      0.78      0.78    320000\n",
      "weighted avg       0.78      0.78      0.78    320000\n",
      "\n"
     ]
    }
   ],
   "source": [
    "print(classification_report(y_test, predictions))"
   ]
  },
  {
   "cell_type": "code",
   "execution_count": 66,
   "id": "899e779a",
   "metadata": {},
   "outputs": [
    {
     "name": "stdout",
     "output_type": "stream",
     "text": [
      "➤➤➤ Accuracy Score :  77.73 %\n",
      "\n",
      "➤➤➤ Precision Score :  76.73 %\n",
      "\n",
      "➤➤➤ Recall Score :  79.59 %\n",
      "\n",
      "➤➤➤ F1 Score :  78.13 %\n",
      "\n",
      "➤➤➤ AUC_ROC :  77.73 %\n",
      "\n"
     ]
    }
   ],
   "source": [
    "# Accuracy = (TP + TN) / (TP + TN + FP + FN)\n",
    "Accuracy_1 = accuracy_score(y_test, predictions)\n",
    "print(f'➤➤➤ Accuracy Score : {Accuracy_1 * 100 : .2f} %\\n')\n",
    "\n",
    "\n",
    "# Precision = TP / (TP + FP)\n",
    "Precision_1 = precision_score(y_test, predictions)\n",
    "print(f'➤➤➤ Precision Score : {Precision_1 * 100 : .2f} %\\n')\n",
    "\n",
    "\n",
    "# Recall = TP / (TP + FN)\n",
    "Recall_1 = recall_score(y_test, predictions)\n",
    "print(f'➤➤➤ Recall Score : {Recall_1 * 100 : .2f} %\\n')\n",
    "\n",
    "\n",
    "# F1 Score = 2 × ((Precision * Recall) / (Precision + Recall))\n",
    "F1_Score_1 = f1_score(y_test, predictions)\n",
    "print(f'➤➤➤ F1 Score : {F1_Score_1 * 100 : .2f} %\\n')\n",
    "\n",
    "\n",
    "ROC_AUC_1 = roc_auc_score(y_test, predictions)\n",
    "print(f'➤➤➤ AUC_ROC : {ROC_AUC_1 * 100 : .2f} %\\n')"
   ]
  },
  {
   "cell_type": "code",
   "execution_count": 68,
   "id": "06fc59a9",
   "metadata": {},
   "outputs": [
    {
     "data": {
      "image/png": "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\n",
      "text/plain": [
       "<Figure size 700x500 with 1 Axes>"
      ]
     },
     "metadata": {},
     "output_type": "display_data"
    }
   ],
   "source": [
    "Scores_1 = [Accuracy_1, Precision_1, Recall_1, F1_Score_1, ROC_AUC_1]\n",
    "Score_Names_1 = ['Accuracy', 'Precision', 'Recall', 'F1 Score', 'AUC-ROC']\n",
    "\n",
    "# Plot\n",
    "plt.figure(figsize=(7, 5))\n",
    "plt.pie(Scores_1, labels=Score_Names_1, autopct='%1.2f%%', startangle=120)\n",
    "plt.axis('equal')\n",
    "plt.show()"
   ]
  },
  {
   "cell_type": "code",
   "execution_count": null,
   "id": "28d92c2d",
   "metadata": {},
   "outputs": [],
   "source": []
  }
 ],
 "metadata": {
  "kernelspec": {
   "display_name": "Python 3 (ipykernel)",
   "language": "python",
   "name": "python3"
  },
  "language_info": {
   "codemirror_mode": {
    "name": "ipython",
    "version": 3
   },
   "file_extension": ".py",
   "mimetype": "text/x-python",
   "name": "python",
   "nbconvert_exporter": "python",
   "pygments_lexer": "ipython3",
   "version": "3.9.13"
  }
 },
 "nbformat": 4,
 "nbformat_minor": 5
}
